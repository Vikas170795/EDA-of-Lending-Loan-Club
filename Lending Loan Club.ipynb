{
 "cells": [
  {
   "cell_type": "markdown",
   "id": "8a88ed46",
   "metadata": {},
   "source": [
    "# Data Analysis of Lending club loan using python"
   ]
  },
  {
   "cell_type": "markdown",
   "id": "3bcf014a",
   "metadata": {},
   "source": [
    "# Importing libraries"
   ]
  },
  {
   "cell_type": "code",
   "execution_count": 8,
   "id": "d7500ca8",
   "metadata": {},
   "outputs": [],
   "source": [
    "import numpy as np\n",
    "import pandas as pd\n",
    "import matplotlib.pyplot as plt\n",
    "%matplotlib inline \n",
    "import seaborn as sn\n",
    "import os\n",
    "from pandas.plotting import scatter_matrix\n",
    "import warnings\n",
    "warnings.filterwarnings(\"ignore\")\n",
    "import seaborn as sn\n",
    "import datetime"
   ]
  },
  {
   "cell_type": "markdown",
   "id": "ac235f37",
   "metadata": {},
   "source": [
    "# Importing the Data"
   ]
  },
  {
   "cell_type": "code",
   "execution_count": 9,
   "id": "2c068ed5",
   "metadata": {},
   "outputs": [
    {
     "data": {
      "text/html": [
       "<div>\n",
       "<style scoped>\n",
       "    .dataframe tbody tr th:only-of-type {\n",
       "        vertical-align: middle;\n",
       "    }\n",
       "\n",
       "    .dataframe tbody tr th {\n",
       "        vertical-align: top;\n",
       "    }\n",
       "\n",
       "    .dataframe thead th {\n",
       "        text-align: right;\n",
       "    }\n",
       "</style>\n",
       "<table border=\"1\" class=\"dataframe\">\n",
       "  <thead>\n",
       "    <tr style=\"text-align: right;\">\n",
       "      <th></th>\n",
       "      <th>loan_amnt</th>\n",
       "      <th>term</th>\n",
       "      <th>int_rate</th>\n",
       "      <th>installment</th>\n",
       "      <th>grade</th>\n",
       "      <th>sub_grade</th>\n",
       "      <th>emp_title</th>\n",
       "      <th>emp_length</th>\n",
       "      <th>home_ownership</th>\n",
       "      <th>annual_inc</th>\n",
       "      <th>...</th>\n",
       "      <th>open_acc</th>\n",
       "      <th>pub_rec</th>\n",
       "      <th>revol_bal</th>\n",
       "      <th>revol_util</th>\n",
       "      <th>total_acc</th>\n",
       "      <th>initial_list_status</th>\n",
       "      <th>application_type</th>\n",
       "      <th>mort_acc</th>\n",
       "      <th>pub_rec_bankruptcies</th>\n",
       "      <th>address</th>\n",
       "    </tr>\n",
       "  </thead>\n",
       "  <tbody>\n",
       "    <tr>\n",
       "      <th>0</th>\n",
       "      <td>10000</td>\n",
       "      <td>36 months</td>\n",
       "      <td>11.44</td>\n",
       "      <td>329.48</td>\n",
       "      <td>B</td>\n",
       "      <td>B4</td>\n",
       "      <td>Marketing</td>\n",
       "      <td>10+ years</td>\n",
       "      <td>RENT</td>\n",
       "      <td>117000.0</td>\n",
       "      <td>...</td>\n",
       "      <td>16</td>\n",
       "      <td>0</td>\n",
       "      <td>36369</td>\n",
       "      <td>41.8</td>\n",
       "      <td>25</td>\n",
       "      <td>w</td>\n",
       "      <td>INDIVIDUAL</td>\n",
       "      <td>0.0</td>\n",
       "      <td>0.0</td>\n",
       "      <td>0174 Michelle Gateway\\nMendozaberg, OK 22690</td>\n",
       "    </tr>\n",
       "    <tr>\n",
       "      <th>1</th>\n",
       "      <td>8000</td>\n",
       "      <td>36 months</td>\n",
       "      <td>11.99</td>\n",
       "      <td>265.68</td>\n",
       "      <td>B</td>\n",
       "      <td>B5</td>\n",
       "      <td>Credit analyst</td>\n",
       "      <td>4 years</td>\n",
       "      <td>MORTGAGE</td>\n",
       "      <td>65000.0</td>\n",
       "      <td>...</td>\n",
       "      <td>17</td>\n",
       "      <td>0</td>\n",
       "      <td>20131</td>\n",
       "      <td>53.3</td>\n",
       "      <td>27</td>\n",
       "      <td>f</td>\n",
       "      <td>INDIVIDUAL</td>\n",
       "      <td>3.0</td>\n",
       "      <td>0.0</td>\n",
       "      <td>1076 Carney Fort Apt. 347\\nLoganmouth, SD 05113</td>\n",
       "    </tr>\n",
       "    <tr>\n",
       "      <th>2</th>\n",
       "      <td>15600</td>\n",
       "      <td>36 months</td>\n",
       "      <td>10.49</td>\n",
       "      <td>506.97</td>\n",
       "      <td>B</td>\n",
       "      <td>B3</td>\n",
       "      <td>Statistician</td>\n",
       "      <td>&lt; 1 year</td>\n",
       "      <td>RENT</td>\n",
       "      <td>43057.0</td>\n",
       "      <td>...</td>\n",
       "      <td>13</td>\n",
       "      <td>0</td>\n",
       "      <td>11987</td>\n",
       "      <td>92.2</td>\n",
       "      <td>26</td>\n",
       "      <td>f</td>\n",
       "      <td>INDIVIDUAL</td>\n",
       "      <td>0.0</td>\n",
       "      <td>0.0</td>\n",
       "      <td>87025 Mark Dale Apt. 269\\nNew Sabrina, WV 05113</td>\n",
       "    </tr>\n",
       "    <tr>\n",
       "      <th>3</th>\n",
       "      <td>7200</td>\n",
       "      <td>36 months</td>\n",
       "      <td>6.49</td>\n",
       "      <td>220.65</td>\n",
       "      <td>A</td>\n",
       "      <td>A2</td>\n",
       "      <td>Client Advocate</td>\n",
       "      <td>6 years</td>\n",
       "      <td>RENT</td>\n",
       "      <td>54000.0</td>\n",
       "      <td>...</td>\n",
       "      <td>6</td>\n",
       "      <td>0</td>\n",
       "      <td>5472</td>\n",
       "      <td>21.5</td>\n",
       "      <td>13</td>\n",
       "      <td>f</td>\n",
       "      <td>INDIVIDUAL</td>\n",
       "      <td>0.0</td>\n",
       "      <td>0.0</td>\n",
       "      <td>823 Reid Ford\\nDelacruzside, MA 00813</td>\n",
       "    </tr>\n",
       "    <tr>\n",
       "      <th>4</th>\n",
       "      <td>24375</td>\n",
       "      <td>60 months</td>\n",
       "      <td>17.27</td>\n",
       "      <td>609.33</td>\n",
       "      <td>C</td>\n",
       "      <td>C5</td>\n",
       "      <td>Destiny Management Inc.</td>\n",
       "      <td>9 years</td>\n",
       "      <td>MORTGAGE</td>\n",
       "      <td>55000.0</td>\n",
       "      <td>...</td>\n",
       "      <td>13</td>\n",
       "      <td>0</td>\n",
       "      <td>24584</td>\n",
       "      <td>69.8</td>\n",
       "      <td>43</td>\n",
       "      <td>f</td>\n",
       "      <td>INDIVIDUAL</td>\n",
       "      <td>1.0</td>\n",
       "      <td>0.0</td>\n",
       "      <td>679 Luna Roads\\nGreggshire, VA 11650</td>\n",
       "    </tr>\n",
       "  </tbody>\n",
       "</table>\n",
       "<p>5 rows × 27 columns</p>\n",
       "</div>"
      ],
      "text/plain": [
       "   loan_amnt        term  int_rate  installment grade sub_grade  \\\n",
       "0      10000   36 months     11.44       329.48     B        B4   \n",
       "1       8000   36 months     11.99       265.68     B        B5   \n",
       "2      15600   36 months     10.49       506.97     B        B3   \n",
       "3       7200   36 months      6.49       220.65     A        A2   \n",
       "4      24375   60 months     17.27       609.33     C        C5   \n",
       "\n",
       "                 emp_title emp_length home_ownership  annual_inc  ...  \\\n",
       "0                Marketing  10+ years           RENT    117000.0  ...   \n",
       "1          Credit analyst     4 years       MORTGAGE     65000.0  ...   \n",
       "2             Statistician   < 1 year           RENT     43057.0  ...   \n",
       "3          Client Advocate    6 years           RENT     54000.0  ...   \n",
       "4  Destiny Management Inc.    9 years       MORTGAGE     55000.0  ...   \n",
       "\n",
       "  open_acc pub_rec revol_bal revol_util total_acc  initial_list_status  \\\n",
       "0       16       0     36369       41.8        25                    w   \n",
       "1       17       0     20131       53.3        27                    f   \n",
       "2       13       0     11987       92.2        26                    f   \n",
       "3        6       0      5472       21.5        13                    f   \n",
       "4       13       0     24584       69.8        43                    f   \n",
       "\n",
       "  application_type  mort_acc  pub_rec_bankruptcies  \\\n",
       "0       INDIVIDUAL       0.0                   0.0   \n",
       "1       INDIVIDUAL       3.0                   0.0   \n",
       "2       INDIVIDUAL       0.0                   0.0   \n",
       "3       INDIVIDUAL       0.0                   0.0   \n",
       "4       INDIVIDUAL       1.0                   0.0   \n",
       "\n",
       "                                           address  \n",
       "0     0174 Michelle Gateway\\nMendozaberg, OK 22690  \n",
       "1  1076 Carney Fort Apt. 347\\nLoganmouth, SD 05113  \n",
       "2  87025 Mark Dale Apt. 269\\nNew Sabrina, WV 05113  \n",
       "3            823 Reid Ford\\nDelacruzside, MA 00813  \n",
       "4             679 Luna Roads\\nGreggshire, VA 11650  \n",
       "\n",
       "[5 rows x 27 columns]"
      ]
     },
     "execution_count": 9,
     "metadata": {},
     "output_type": "execute_result"
    }
   ],
   "source": [
    "df_data = pd.read_csv(r\"C:\\Users\\Admin\\Desktop\\lending_club_loan_two.csv\")\n",
    "df_data.head()"
   ]
  },
  {
   "cell_type": "code",
   "execution_count": 11,
   "id": "7a53fa36",
   "metadata": {},
   "outputs": [
    {
     "data": {
      "text/html": [
       "<div>\n",
       "<style scoped>\n",
       "    .dataframe tbody tr th:only-of-type {\n",
       "        vertical-align: middle;\n",
       "    }\n",
       "\n",
       "    .dataframe tbody tr th {\n",
       "        vertical-align: top;\n",
       "    }\n",
       "\n",
       "    .dataframe thead th {\n",
       "        text-align: right;\n",
       "    }\n",
       "</style>\n",
       "<table border=\"1\" class=\"dataframe\">\n",
       "  <thead>\n",
       "    <tr style=\"text-align: right;\">\n",
       "      <th></th>\n",
       "      <th>loan_amnt</th>\n",
       "      <th>term</th>\n",
       "      <th>int_rate</th>\n",
       "      <th>installment</th>\n",
       "      <th>grade</th>\n",
       "      <th>sub_grade</th>\n",
       "      <th>emp_title</th>\n",
       "      <th>emp_length</th>\n",
       "      <th>home_ownership</th>\n",
       "      <th>annual_inc</th>\n",
       "      <th>...</th>\n",
       "      <th>open_acc</th>\n",
       "      <th>pub_rec</th>\n",
       "      <th>revol_bal</th>\n",
       "      <th>revol_util</th>\n",
       "      <th>total_acc</th>\n",
       "      <th>initial_list_status</th>\n",
       "      <th>application_type</th>\n",
       "      <th>mort_acc</th>\n",
       "      <th>pub_rec_bankruptcies</th>\n",
       "      <th>address</th>\n",
       "    </tr>\n",
       "  </thead>\n",
       "  <tbody>\n",
       "    <tr>\n",
       "      <th>396025</th>\n",
       "      <td>10000</td>\n",
       "      <td>60 months</td>\n",
       "      <td>10.99</td>\n",
       "      <td>217.38</td>\n",
       "      <td>B</td>\n",
       "      <td>B4</td>\n",
       "      <td>licensed bankere</td>\n",
       "      <td>2 years</td>\n",
       "      <td>RENT</td>\n",
       "      <td>40000.0</td>\n",
       "      <td>...</td>\n",
       "      <td>6</td>\n",
       "      <td>0</td>\n",
       "      <td>1990</td>\n",
       "      <td>34.3</td>\n",
       "      <td>23</td>\n",
       "      <td>w</td>\n",
       "      <td>INDIVIDUAL</td>\n",
       "      <td>0.0</td>\n",
       "      <td>0.0</td>\n",
       "      <td>12951 Williams Crossing\\nJohnnyville, DC 30723</td>\n",
       "    </tr>\n",
       "    <tr>\n",
       "      <th>396026</th>\n",
       "      <td>21000</td>\n",
       "      <td>36 months</td>\n",
       "      <td>12.29</td>\n",
       "      <td>700.42</td>\n",
       "      <td>C</td>\n",
       "      <td>C1</td>\n",
       "      <td>Agent</td>\n",
       "      <td>5 years</td>\n",
       "      <td>MORTGAGE</td>\n",
       "      <td>110000.0</td>\n",
       "      <td>...</td>\n",
       "      <td>6</td>\n",
       "      <td>0</td>\n",
       "      <td>43263</td>\n",
       "      <td>95.7</td>\n",
       "      <td>8</td>\n",
       "      <td>f</td>\n",
       "      <td>INDIVIDUAL</td>\n",
       "      <td>1.0</td>\n",
       "      <td>0.0</td>\n",
       "      <td>0114 Fowler Field Suite 028\\nRachelborough, LA...</td>\n",
       "    </tr>\n",
       "    <tr>\n",
       "      <th>396027</th>\n",
       "      <td>5000</td>\n",
       "      <td>36 months</td>\n",
       "      <td>9.99</td>\n",
       "      <td>161.32</td>\n",
       "      <td>B</td>\n",
       "      <td>B1</td>\n",
       "      <td>City Carrier</td>\n",
       "      <td>10+ years</td>\n",
       "      <td>RENT</td>\n",
       "      <td>56500.0</td>\n",
       "      <td>...</td>\n",
       "      <td>15</td>\n",
       "      <td>0</td>\n",
       "      <td>32704</td>\n",
       "      <td>66.9</td>\n",
       "      <td>23</td>\n",
       "      <td>f</td>\n",
       "      <td>INDIVIDUAL</td>\n",
       "      <td>0.0</td>\n",
       "      <td>0.0</td>\n",
       "      <td>953 Matthew Points Suite 414\\nReedfort, NY 70466</td>\n",
       "    </tr>\n",
       "    <tr>\n",
       "      <th>396028</th>\n",
       "      <td>21000</td>\n",
       "      <td>60 months</td>\n",
       "      <td>15.31</td>\n",
       "      <td>503.02</td>\n",
       "      <td>C</td>\n",
       "      <td>C2</td>\n",
       "      <td>Gracon Services, Inc</td>\n",
       "      <td>10+ years</td>\n",
       "      <td>MORTGAGE</td>\n",
       "      <td>64000.0</td>\n",
       "      <td>...</td>\n",
       "      <td>9</td>\n",
       "      <td>0</td>\n",
       "      <td>15704</td>\n",
       "      <td>53.8</td>\n",
       "      <td>20</td>\n",
       "      <td>f</td>\n",
       "      <td>INDIVIDUAL</td>\n",
       "      <td>5.0</td>\n",
       "      <td>0.0</td>\n",
       "      <td>7843 Blake Freeway Apt. 229\\nNew Michael, FL 2...</td>\n",
       "    </tr>\n",
       "    <tr>\n",
       "      <th>396029</th>\n",
       "      <td>2000</td>\n",
       "      <td>36 months</td>\n",
       "      <td>13.61</td>\n",
       "      <td>67.98</td>\n",
       "      <td>C</td>\n",
       "      <td>C2</td>\n",
       "      <td>Internal Revenue Service</td>\n",
       "      <td>10+ years</td>\n",
       "      <td>RENT</td>\n",
       "      <td>42996.0</td>\n",
       "      <td>...</td>\n",
       "      <td>3</td>\n",
       "      <td>0</td>\n",
       "      <td>4292</td>\n",
       "      <td>91.3</td>\n",
       "      <td>19</td>\n",
       "      <td>f</td>\n",
       "      <td>INDIVIDUAL</td>\n",
       "      <td>NaN</td>\n",
       "      <td>0.0</td>\n",
       "      <td>787 Michelle Causeway\\nBriannaton, AR 48052</td>\n",
       "    </tr>\n",
       "  </tbody>\n",
       "</table>\n",
       "<p>5 rows × 27 columns</p>\n",
       "</div>"
      ],
      "text/plain": [
       "        loan_amnt        term  int_rate  installment grade sub_grade  \\\n",
       "396025      10000   60 months     10.99       217.38     B        B4   \n",
       "396026      21000   36 months     12.29       700.42     C        C1   \n",
       "396027       5000   36 months      9.99       161.32     B        B1   \n",
       "396028      21000   60 months     15.31       503.02     C        C2   \n",
       "396029       2000   36 months     13.61        67.98     C        C2   \n",
       "\n",
       "                       emp_title emp_length home_ownership  annual_inc  ...  \\\n",
       "396025          licensed bankere    2 years           RENT     40000.0  ...   \n",
       "396026                     Agent    5 years       MORTGAGE    110000.0  ...   \n",
       "396027              City Carrier  10+ years           RENT     56500.0  ...   \n",
       "396028      Gracon Services, Inc  10+ years       MORTGAGE     64000.0  ...   \n",
       "396029  Internal Revenue Service  10+ years           RENT     42996.0  ...   \n",
       "\n",
       "       open_acc pub_rec revol_bal revol_util total_acc  initial_list_status  \\\n",
       "396025        6       0      1990       34.3        23                    w   \n",
       "396026        6       0     43263       95.7         8                    f   \n",
       "396027       15       0     32704       66.9        23                    f   \n",
       "396028        9       0     15704       53.8        20                    f   \n",
       "396029        3       0      4292       91.3        19                    f   \n",
       "\n",
       "       application_type  mort_acc  pub_rec_bankruptcies  \\\n",
       "396025       INDIVIDUAL       0.0                   0.0   \n",
       "396026       INDIVIDUAL       1.0                   0.0   \n",
       "396027       INDIVIDUAL       0.0                   0.0   \n",
       "396028       INDIVIDUAL       5.0                   0.0   \n",
       "396029       INDIVIDUAL       NaN                   0.0   \n",
       "\n",
       "                                                  address  \n",
       "396025     12951 Williams Crossing\\nJohnnyville, DC 30723  \n",
       "396026  0114 Fowler Field Suite 028\\nRachelborough, LA...  \n",
       "396027   953 Matthew Points Suite 414\\nReedfort, NY 70466  \n",
       "396028  7843 Blake Freeway Apt. 229\\nNew Michael, FL 2...  \n",
       "396029        787 Michelle Causeway\\nBriannaton, AR 48052  \n",
       "\n",
       "[5 rows x 27 columns]"
      ]
     },
     "execution_count": 11,
     "metadata": {},
     "output_type": "execute_result"
    }
   ],
   "source": [
    "df_data.tail()"
   ]
  },
  {
   "cell_type": "markdown",
   "id": "93e48702",
   "metadata": {},
   "source": [
    "# Checking the dimension of the data"
   ]
  },
  {
   "cell_type": "code",
   "execution_count": 10,
   "id": "b3560c1e",
   "metadata": {},
   "outputs": [
    {
     "name": "stdout",
     "output_type": "stream",
     "text": [
      "(396030, 27)\n"
     ]
    }
   ],
   "source": [
    "print(df_data.shape)"
   ]
  },
  {
   "cell_type": "code",
   "execution_count": 5,
   "id": "fee47773",
   "metadata": {},
   "outputs": [],
   "source": [
    "# it has 396030 rows and 27 columns"
   ]
  },
  {
   "cell_type": "markdown",
   "id": "207bcb00",
   "metadata": {},
   "source": [
    "# Checking the Columns"
   ]
  },
  {
   "cell_type": "code",
   "execution_count": 12,
   "id": "215f89cb",
   "metadata": {},
   "outputs": [
    {
     "name": "stdout",
     "output_type": "stream",
     "text": [
      "Index(['loan_amnt', 'term', 'int_rate', 'installment', 'grade', 'sub_grade',\n",
      "       'emp_title', 'emp_length', 'home_ownership', 'annual_inc',\n",
      "       'verification_status', 'issue_d', 'loan_status', 'purpose', 'title',\n",
      "       'dti', 'earliest_cr_line', 'open_acc', 'pub_rec', 'revol_bal',\n",
      "       'revol_util', 'total_acc', 'initial_list_status', 'application_type',\n",
      "       'mort_acc', 'pub_rec_bankruptcies', 'address'],\n",
      "      dtype='object')\n"
     ]
    }
   ],
   "source": [
    "print(df_data.columns.unique())"
   ]
  },
  {
   "cell_type": "markdown",
   "id": "e103fc27",
   "metadata": {},
   "source": [
    "# Checking the term length"
   ]
  },
  {
   "cell_type": "code",
   "execution_count": 13,
   "id": "86b9bb7c",
   "metadata": {},
   "outputs": [
    {
     "name": "stdout",
     "output_type": "stream",
     "text": [
      " 36 months    302005\n",
      " 60 months     94025\n",
      "Name: term, dtype: int64\n"
     ]
    }
   ],
   "source": [
    "print(df_data.term.value_counts())"
   ]
  },
  {
   "cell_type": "code",
   "execution_count": 9,
   "id": "092aa52a",
   "metadata": {},
   "outputs": [],
   "source": [
    "# Total of 302005 number of loans have been provided for 36 month term installment\n",
    "# Total of 94025 number of loans have been provided for 60 month term installment"
   ]
  },
  {
   "cell_type": "markdown",
   "id": "3ea37d84",
   "metadata": {},
   "source": [
    "# Checking differnt grade & their counts"
   ]
  },
  {
   "cell_type": "code",
   "execution_count": 14,
   "id": "02778dfa",
   "metadata": {},
   "outputs": [
    {
     "name": "stdout",
     "output_type": "stream",
     "text": [
      "    grade\n",
      "B  116018\n",
      "C  105987\n",
      "A   64187\n",
      "D   63524\n",
      "E   31488\n",
      "F   11772\n",
      "G    3054\n"
     ]
    }
   ],
   "source": [
    "print(df_data.grade.value_counts().to_frame())"
   ]
  },
  {
   "cell_type": "markdown",
   "id": "901cc5c2",
   "metadata": {},
   "source": [
    "# Checking different sub-grade & their counts¶"
   ]
  },
  {
   "cell_type": "code",
   "execution_count": 15,
   "id": "a7043a21",
   "metadata": {},
   "outputs": [
    {
     "name": "stdout",
     "output_type": "stream",
     "text": [
      "    sub_grade\n",
      "B3      26655\n",
      "B4      25601\n",
      "C1      23662\n",
      "C2      22580\n",
      "B2      22495\n",
      "B5      22085\n",
      "C3      21221\n",
      "C4      20280\n",
      "B1      19182\n",
      "A5      18526\n",
      "C5      18244\n",
      "D1      15993\n",
      "A4      15789\n",
      "D2      13951\n",
      "D3      12223\n",
      "D4      11657\n",
      "A3      10576\n",
      "A1       9729\n",
      "D5       9700\n",
      "A2       9567\n",
      "E1       7917\n",
      "E2       7431\n",
      "E3       6207\n",
      "E4       5361\n",
      "E5       4572\n",
      "F1       3536\n",
      "F2       2766\n",
      "F3       2286\n",
      "F4       1787\n",
      "F5       1397\n",
      "G1       1058\n",
      "G2        754\n",
      "G3        552\n",
      "G4        374\n",
      "G5        316\n"
     ]
    }
   ],
   "source": [
    "print(df_data.sub_grade.value_counts().to_frame())"
   ]
  },
  {
   "cell_type": "markdown",
   "id": "e697d1f6",
   "metadata": {},
   "source": [
    "# Checking Total loan Amount"
   ]
  },
  {
   "cell_type": "code",
   "execution_count": 16,
   "id": "880e69df",
   "metadata": {},
   "outputs": [
    {
     "name": "stdout",
     "output_type": "stream",
     "text": [
      "5589523100\n"
     ]
    }
   ],
   "source": [
    "print(df_data.loan_amnt.sum())"
   ]
  },
  {
   "cell_type": "markdown",
   "id": "d331086b",
   "metadata": {},
   "source": [
    "# Checking different types of home ownership"
   ]
  },
  {
   "cell_type": "code",
   "execution_count": 17,
   "id": "215fbdc1",
   "metadata": {},
   "outputs": [
    {
     "name": "stdout",
     "output_type": "stream",
     "text": [
      "MORTGAGE    198348\n",
      "RENT        159790\n",
      "OWN          37746\n",
      "OTHER          112\n",
      "NONE            31\n",
      "ANY              3\n",
      "Name: home_ownership, dtype: int64\n"
     ]
    }
   ],
   "source": [
    "print(df_data.home_ownership.value_counts())"
   ]
  },
  {
   "cell_type": "markdown",
   "id": "fca30d9f",
   "metadata": {},
   "source": [
    "# Checking different employee title"
   ]
  },
  {
   "cell_type": "code",
   "execution_count": 18,
   "id": "1ee2ea24",
   "metadata": {},
   "outputs": [
    {
     "name": "stdout",
     "output_type": "stream",
     "text": [
      "['Marketing' 'Credit analyst ' 'Statistician' ...\n",
      " \"Michael's Arts & Crafts\" 'licensed bankere' 'Gracon Services, Inc']\n"
     ]
    }
   ],
   "source": [
    "print(df_data.emp_title.unique())"
   ]
  },
  {
   "cell_type": "markdown",
   "id": "777a4cc0",
   "metadata": {},
   "source": [
    "# Checking differnt application types"
   ]
  },
  {
   "cell_type": "code",
   "execution_count": 19,
   "id": "d8123a82",
   "metadata": {},
   "outputs": [
    {
     "name": "stdout",
     "output_type": "stream",
     "text": [
      "INDIVIDUAL    395319\n",
      "JOINT            425\n",
      "DIRECT_PAY       286\n",
      "Name: application_type, dtype: int64\n"
     ]
    }
   ],
   "source": [
    "print(df_data.application_type.value_counts())"
   ]
  },
  {
   "cell_type": "markdown",
   "id": "9fa68868",
   "metadata": {},
   "source": [
    "# Checking different purpose of loans"
   ]
  },
  {
   "cell_type": "code",
   "execution_count": 20,
   "id": "74523e2f",
   "metadata": {},
   "outputs": [
    {
     "name": "stdout",
     "output_type": "stream",
     "text": [
      "debt_consolidation    234507\n",
      "credit_card            83019\n",
      "home_improvement       24030\n",
      "other                  21185\n",
      "major_purchase          8790\n",
      "small_business          5701\n",
      "car                     4697\n",
      "medical                 4196\n",
      "moving                  2854\n",
      "vacation                2452\n",
      "house                   2201\n",
      "wedding                 1812\n",
      "renewable_energy         329\n",
      "educational              257\n",
      "Name: purpose, dtype: int64\n"
     ]
    }
   ],
   "source": [
    "print(df_data.purpose.value_counts())"
   ]
  },
  {
   "cell_type": "markdown",
   "id": "094f3b8d",
   "metadata": {},
   "source": [
    "# Checking total amount for each term length"
   ]
  },
  {
   "cell_type": "code",
   "execution_count": 21,
   "id": "7a567240",
   "metadata": {},
   "outputs": [
    {
     "name": "stdout",
     "output_type": "stream",
     "text": [
      "             loan_amnt\n",
      "term                  \n",
      " 36 months  3707781200\n",
      " 60 months  1881741900\n"
     ]
    }
   ],
   "source": [
    "print(df_data.groupby('term')['loan_amnt'].sum().to_frame())"
   ]
  },
  {
   "cell_type": "markdown",
   "id": "5c5f5354",
   "metadata": {},
   "source": [
    "# Checking average interest rate for every term"
   ]
  },
  {
   "cell_type": "code",
   "execution_count": 22,
   "id": "057e447d",
   "metadata": {},
   "outputs": [
    {
     "data": {
      "text/html": [
       "<div>\n",
       "<style scoped>\n",
       "    .dataframe tbody tr th:only-of-type {\n",
       "        vertical-align: middle;\n",
       "    }\n",
       "\n",
       "    .dataframe tbody tr th {\n",
       "        vertical-align: top;\n",
       "    }\n",
       "\n",
       "    .dataframe thead th {\n",
       "        text-align: right;\n",
       "    }\n",
       "</style>\n",
       "<table border=\"1\" class=\"dataframe\">\n",
       "  <thead>\n",
       "    <tr style=\"text-align: right;\">\n",
       "      <th></th>\n",
       "      <th>int_rate</th>\n",
       "    </tr>\n",
       "    <tr>\n",
       "      <th>term</th>\n",
       "      <th></th>\n",
       "    </tr>\n",
       "  </thead>\n",
       "  <tbody>\n",
       "    <tr>\n",
       "      <th>36 months</th>\n",
       "      <td>12.554938</td>\n",
       "    </tr>\n",
       "    <tr>\n",
       "      <th>60 months</th>\n",
       "      <td>17.122655</td>\n",
       "    </tr>\n",
       "  </tbody>\n",
       "</table>\n",
       "</div>"
      ],
      "text/plain": [
       "             int_rate\n",
       "term                 \n",
       " 36 months  12.554938\n",
       " 60 months  17.122655"
      ]
     },
     "execution_count": 22,
     "metadata": {},
     "output_type": "execute_result"
    }
   ],
   "source": [
    "df_data.groupby('term')['int_rate'].mean().to_frame()"
   ]
  },
  {
   "cell_type": "markdown",
   "id": "0fe8e1a0",
   "metadata": {},
   "source": [
    "# Checking the loan status"
   ]
  },
  {
   "cell_type": "code",
   "execution_count": 23,
   "id": "75c71f9c",
   "metadata": {},
   "outputs": [
    {
     "name": "stdout",
     "output_type": "stream",
     "text": [
      "Fully Paid     318357\n",
      "Charged Off     77673\n",
      "Name: loan_status, dtype: int64\n"
     ]
    }
   ],
   "source": [
    "print(df_data.loan_status.value_counts())"
   ]
  },
  {
   "cell_type": "markdown",
   "id": "27b8609a",
   "metadata": {},
   "source": [
    "# Checking Total number of null values"
   ]
  },
  {
   "cell_type": "code",
   "execution_count": 24,
   "id": "c8253903",
   "metadata": {},
   "outputs": [
    {
     "name": "stdout",
     "output_type": "stream",
     "text": [
      "                          0\n",
      "loan_amnt                 0\n",
      "term                      0\n",
      "int_rate                  0\n",
      "installment               0\n",
      "grade                     0\n",
      "sub_grade                 0\n",
      "emp_title             22927\n",
      "emp_length            18301\n",
      "home_ownership            0\n",
      "annual_inc                0\n",
      "verification_status       0\n",
      "issue_d                   0\n",
      "loan_status               0\n",
      "purpose                   0\n",
      "title                  1755\n",
      "dti                       0\n",
      "earliest_cr_line          0\n",
      "open_acc                  0\n",
      "pub_rec                   0\n",
      "revol_bal                 0\n",
      "revol_util              276\n",
      "total_acc                 0\n",
      "initial_list_status       0\n",
      "application_type          0\n",
      "mort_acc              37795\n",
      "pub_rec_bankruptcies    535\n",
      "address                   0\n"
     ]
    }
   ],
   "source": [
    "print(df_data.isnull().sum().to_frame())"
   ]
  },
  {
   "cell_type": "markdown",
   "id": "3f04adfa",
   "metadata": {},
   "source": [
    "# Checking average annual income based on home ownership"
   ]
  },
  {
   "cell_type": "code",
   "execution_count": 25,
   "id": "07b387cc",
   "metadata": {},
   "outputs": [
    {
     "data": {
      "text/html": [
       "<div>\n",
       "<style scoped>\n",
       "    .dataframe tbody tr th:only-of-type {\n",
       "        vertical-align: middle;\n",
       "    }\n",
       "\n",
       "    .dataframe tbody tr th {\n",
       "        vertical-align: top;\n",
       "    }\n",
       "\n",
       "    .dataframe thead th {\n",
       "        text-align: right;\n",
       "    }\n",
       "</style>\n",
       "<table border=\"1\" class=\"dataframe\">\n",
       "  <thead>\n",
       "    <tr style=\"text-align: right;\">\n",
       "      <th></th>\n",
       "      <th>annual_inc</th>\n",
       "    </tr>\n",
       "    <tr>\n",
       "      <th>home_ownership</th>\n",
       "      <th></th>\n",
       "    </tr>\n",
       "  </thead>\n",
       "  <tbody>\n",
       "    <tr>\n",
       "      <th>ANY</th>\n",
       "      <td>86669.333333</td>\n",
       "    </tr>\n",
       "    <tr>\n",
       "      <th>MORTGAGE</th>\n",
       "      <td>84121.332831</td>\n",
       "    </tr>\n",
       "    <tr>\n",
       "      <th>NONE</th>\n",
       "      <td>61393.548387</td>\n",
       "    </tr>\n",
       "    <tr>\n",
       "      <th>OTHER</th>\n",
       "      <td>70456.267857</td>\n",
       "    </tr>\n",
       "    <tr>\n",
       "      <th>OWN</th>\n",
       "      <td>68014.106750</td>\n",
       "    </tr>\n",
       "    <tr>\n",
       "      <th>RENT</th>\n",
       "      <td>63358.600684</td>\n",
       "    </tr>\n",
       "  </tbody>\n",
       "</table>\n",
       "</div>"
      ],
      "text/plain": [
       "                  annual_inc\n",
       "home_ownership              \n",
       "ANY             86669.333333\n",
       "MORTGAGE        84121.332831\n",
       "NONE            61393.548387\n",
       "OTHER           70456.267857\n",
       "OWN             68014.106750\n",
       "RENT            63358.600684"
      ]
     },
     "execution_count": 25,
     "metadata": {},
     "output_type": "execute_result"
    }
   ],
   "source": [
    "df_data.groupby('home_ownership')['annual_inc'].mean().to_frame()"
   ]
  },
  {
   "cell_type": "markdown",
   "id": "a31503dc",
   "metadata": {},
   "source": [
    "# Checking the verification status"
   ]
  },
  {
   "cell_type": "code",
   "execution_count": 26,
   "id": "8e256a6d",
   "metadata": {},
   "outputs": [
    {
     "name": "stdout",
     "output_type": "stream",
     "text": [
      "Verified           139563\n",
      "Source Verified    131385\n",
      "Not Verified       125082\n",
      "Name: verification_status, dtype: int64\n"
     ]
    }
   ],
   "source": [
    "print(df_data.verification_status.value_counts())"
   ]
  },
  {
   "cell_type": "markdown",
   "id": "226858ff",
   "metadata": {},
   "source": [
    "# Dropping of columns"
   ]
  },
  {
   "cell_type": "code",
   "execution_count": 27,
   "id": "5736c7a3",
   "metadata": {},
   "outputs": [
    {
     "data": {
      "text/html": [
       "<div>\n",
       "<style scoped>\n",
       "    .dataframe tbody tr th:only-of-type {\n",
       "        vertical-align: middle;\n",
       "    }\n",
       "\n",
       "    .dataframe tbody tr th {\n",
       "        vertical-align: top;\n",
       "    }\n",
       "\n",
       "    .dataframe thead th {\n",
       "        text-align: right;\n",
       "    }\n",
       "</style>\n",
       "<table border=\"1\" class=\"dataframe\">\n",
       "  <thead>\n",
       "    <tr style=\"text-align: right;\">\n",
       "      <th></th>\n",
       "      <th>loan_amnt</th>\n",
       "      <th>term</th>\n",
       "      <th>int_rate</th>\n",
       "      <th>installment</th>\n",
       "      <th>grade</th>\n",
       "      <th>sub_grade</th>\n",
       "      <th>home_ownership</th>\n",
       "      <th>annual_inc</th>\n",
       "      <th>verification_status</th>\n",
       "      <th>issue_d</th>\n",
       "      <th>loan_status</th>\n",
       "      <th>purpose</th>\n",
       "      <th>initial_list_status</th>\n",
       "      <th>application_type</th>\n",
       "    </tr>\n",
       "  </thead>\n",
       "  <tbody>\n",
       "    <tr>\n",
       "      <th>0</th>\n",
       "      <td>10000</td>\n",
       "      <td>36 months</td>\n",
       "      <td>11.44</td>\n",
       "      <td>329.48</td>\n",
       "      <td>B</td>\n",
       "      <td>B4</td>\n",
       "      <td>RENT</td>\n",
       "      <td>117000.0</td>\n",
       "      <td>Not Verified</td>\n",
       "      <td>Jan-15</td>\n",
       "      <td>Fully Paid</td>\n",
       "      <td>vacation</td>\n",
       "      <td>w</td>\n",
       "      <td>INDIVIDUAL</td>\n",
       "    </tr>\n",
       "    <tr>\n",
       "      <th>1</th>\n",
       "      <td>8000</td>\n",
       "      <td>36 months</td>\n",
       "      <td>11.99</td>\n",
       "      <td>265.68</td>\n",
       "      <td>B</td>\n",
       "      <td>B5</td>\n",
       "      <td>MORTGAGE</td>\n",
       "      <td>65000.0</td>\n",
       "      <td>Not Verified</td>\n",
       "      <td>Jan-15</td>\n",
       "      <td>Fully Paid</td>\n",
       "      <td>debt_consolidation</td>\n",
       "      <td>f</td>\n",
       "      <td>INDIVIDUAL</td>\n",
       "    </tr>\n",
       "    <tr>\n",
       "      <th>2</th>\n",
       "      <td>15600</td>\n",
       "      <td>36 months</td>\n",
       "      <td>10.49</td>\n",
       "      <td>506.97</td>\n",
       "      <td>B</td>\n",
       "      <td>B3</td>\n",
       "      <td>RENT</td>\n",
       "      <td>43057.0</td>\n",
       "      <td>Source Verified</td>\n",
       "      <td>Jan-15</td>\n",
       "      <td>Fully Paid</td>\n",
       "      <td>credit_card</td>\n",
       "      <td>f</td>\n",
       "      <td>INDIVIDUAL</td>\n",
       "    </tr>\n",
       "    <tr>\n",
       "      <th>3</th>\n",
       "      <td>7200</td>\n",
       "      <td>36 months</td>\n",
       "      <td>6.49</td>\n",
       "      <td>220.65</td>\n",
       "      <td>A</td>\n",
       "      <td>A2</td>\n",
       "      <td>RENT</td>\n",
       "      <td>54000.0</td>\n",
       "      <td>Not Verified</td>\n",
       "      <td>Nov-14</td>\n",
       "      <td>Fully Paid</td>\n",
       "      <td>credit_card</td>\n",
       "      <td>f</td>\n",
       "      <td>INDIVIDUAL</td>\n",
       "    </tr>\n",
       "    <tr>\n",
       "      <th>4</th>\n",
       "      <td>24375</td>\n",
       "      <td>60 months</td>\n",
       "      <td>17.27</td>\n",
       "      <td>609.33</td>\n",
       "      <td>C</td>\n",
       "      <td>C5</td>\n",
       "      <td>MORTGAGE</td>\n",
       "      <td>55000.0</td>\n",
       "      <td>Verified</td>\n",
       "      <td>Apr-13</td>\n",
       "      <td>Charged Off</td>\n",
       "      <td>credit_card</td>\n",
       "      <td>f</td>\n",
       "      <td>INDIVIDUAL</td>\n",
       "    </tr>\n",
       "    <tr>\n",
       "      <th>...</th>\n",
       "      <td>...</td>\n",
       "      <td>...</td>\n",
       "      <td>...</td>\n",
       "      <td>...</td>\n",
       "      <td>...</td>\n",
       "      <td>...</td>\n",
       "      <td>...</td>\n",
       "      <td>...</td>\n",
       "      <td>...</td>\n",
       "      <td>...</td>\n",
       "      <td>...</td>\n",
       "      <td>...</td>\n",
       "      <td>...</td>\n",
       "      <td>...</td>\n",
       "    </tr>\n",
       "    <tr>\n",
       "      <th>396025</th>\n",
       "      <td>10000</td>\n",
       "      <td>60 months</td>\n",
       "      <td>10.99</td>\n",
       "      <td>217.38</td>\n",
       "      <td>B</td>\n",
       "      <td>B4</td>\n",
       "      <td>RENT</td>\n",
       "      <td>40000.0</td>\n",
       "      <td>Source Verified</td>\n",
       "      <td>Oct-15</td>\n",
       "      <td>Fully Paid</td>\n",
       "      <td>debt_consolidation</td>\n",
       "      <td>w</td>\n",
       "      <td>INDIVIDUAL</td>\n",
       "    </tr>\n",
       "    <tr>\n",
       "      <th>396026</th>\n",
       "      <td>21000</td>\n",
       "      <td>36 months</td>\n",
       "      <td>12.29</td>\n",
       "      <td>700.42</td>\n",
       "      <td>C</td>\n",
       "      <td>C1</td>\n",
       "      <td>MORTGAGE</td>\n",
       "      <td>110000.0</td>\n",
       "      <td>Source Verified</td>\n",
       "      <td>Feb-15</td>\n",
       "      <td>Fully Paid</td>\n",
       "      <td>debt_consolidation</td>\n",
       "      <td>f</td>\n",
       "      <td>INDIVIDUAL</td>\n",
       "    </tr>\n",
       "    <tr>\n",
       "      <th>396027</th>\n",
       "      <td>5000</td>\n",
       "      <td>36 months</td>\n",
       "      <td>9.99</td>\n",
       "      <td>161.32</td>\n",
       "      <td>B</td>\n",
       "      <td>B1</td>\n",
       "      <td>RENT</td>\n",
       "      <td>56500.0</td>\n",
       "      <td>Verified</td>\n",
       "      <td>Oct-13</td>\n",
       "      <td>Fully Paid</td>\n",
       "      <td>debt_consolidation</td>\n",
       "      <td>f</td>\n",
       "      <td>INDIVIDUAL</td>\n",
       "    </tr>\n",
       "    <tr>\n",
       "      <th>396028</th>\n",
       "      <td>21000</td>\n",
       "      <td>60 months</td>\n",
       "      <td>15.31</td>\n",
       "      <td>503.02</td>\n",
       "      <td>C</td>\n",
       "      <td>C2</td>\n",
       "      <td>MORTGAGE</td>\n",
       "      <td>64000.0</td>\n",
       "      <td>Verified</td>\n",
       "      <td>Aug-12</td>\n",
       "      <td>Fully Paid</td>\n",
       "      <td>debt_consolidation</td>\n",
       "      <td>f</td>\n",
       "      <td>INDIVIDUAL</td>\n",
       "    </tr>\n",
       "    <tr>\n",
       "      <th>396029</th>\n",
       "      <td>2000</td>\n",
       "      <td>36 months</td>\n",
       "      <td>13.61</td>\n",
       "      <td>67.98</td>\n",
       "      <td>C</td>\n",
       "      <td>C2</td>\n",
       "      <td>RENT</td>\n",
       "      <td>42996.0</td>\n",
       "      <td>Verified</td>\n",
       "      <td>Jun-10</td>\n",
       "      <td>Fully Paid</td>\n",
       "      <td>debt_consolidation</td>\n",
       "      <td>f</td>\n",
       "      <td>INDIVIDUAL</td>\n",
       "    </tr>\n",
       "  </tbody>\n",
       "</table>\n",
       "<p>396030 rows × 14 columns</p>\n",
       "</div>"
      ],
      "text/plain": [
       "        loan_amnt        term  int_rate  installment grade sub_grade  \\\n",
       "0           10000   36 months     11.44       329.48     B        B4   \n",
       "1            8000   36 months     11.99       265.68     B        B5   \n",
       "2           15600   36 months     10.49       506.97     B        B3   \n",
       "3            7200   36 months      6.49       220.65     A        A2   \n",
       "4           24375   60 months     17.27       609.33     C        C5   \n",
       "...           ...         ...       ...          ...   ...       ...   \n",
       "396025      10000   60 months     10.99       217.38     B        B4   \n",
       "396026      21000   36 months     12.29       700.42     C        C1   \n",
       "396027       5000   36 months      9.99       161.32     B        B1   \n",
       "396028      21000   60 months     15.31       503.02     C        C2   \n",
       "396029       2000   36 months     13.61        67.98     C        C2   \n",
       "\n",
       "       home_ownership  annual_inc verification_status issue_d  loan_status  \\\n",
       "0                RENT    117000.0        Not Verified  Jan-15   Fully Paid   \n",
       "1            MORTGAGE     65000.0        Not Verified  Jan-15   Fully Paid   \n",
       "2                RENT     43057.0     Source Verified  Jan-15   Fully Paid   \n",
       "3                RENT     54000.0        Not Verified  Nov-14   Fully Paid   \n",
       "4            MORTGAGE     55000.0            Verified  Apr-13  Charged Off   \n",
       "...               ...         ...                 ...     ...          ...   \n",
       "396025           RENT     40000.0     Source Verified  Oct-15   Fully Paid   \n",
       "396026       MORTGAGE    110000.0     Source Verified  Feb-15   Fully Paid   \n",
       "396027           RENT     56500.0            Verified  Oct-13   Fully Paid   \n",
       "396028       MORTGAGE     64000.0            Verified  Aug-12   Fully Paid   \n",
       "396029           RENT     42996.0            Verified  Jun-10   Fully Paid   \n",
       "\n",
       "                   purpose initial_list_status application_type  \n",
       "0                 vacation                   w       INDIVIDUAL  \n",
       "1       debt_consolidation                   f       INDIVIDUAL  \n",
       "2              credit_card                   f       INDIVIDUAL  \n",
       "3              credit_card                   f       INDIVIDUAL  \n",
       "4              credit_card                   f       INDIVIDUAL  \n",
       "...                    ...                 ...              ...  \n",
       "396025  debt_consolidation                   w       INDIVIDUAL  \n",
       "396026  debt_consolidation                   f       INDIVIDUAL  \n",
       "396027  debt_consolidation                   f       INDIVIDUAL  \n",
       "396028  debt_consolidation                   f       INDIVIDUAL  \n",
       "396029  debt_consolidation                   f       INDIVIDUAL  \n",
       "\n",
       "[396030 rows x 14 columns]"
      ]
     },
     "execution_count": 27,
     "metadata": {},
     "output_type": "execute_result"
    }
   ],
   "source": [
    "df1 =df_data.drop(columns=['emp_title','emp_length','title','dti','earliest_cr_line','open_acc','pub_rec',\n",
    "             'revol_bal','revol_util','total_acc','mort_acc','pub_rec_bankruptcies','address'],axis =1)\n",
    "df1"
   ]
  },
  {
   "cell_type": "markdown",
   "id": "9ef66be6",
   "metadata": {},
   "source": [
    "# Corelation between data"
   ]
  },
  {
   "cell_type": "code",
   "execution_count": 28,
   "id": "229bbc20",
   "metadata": {},
   "outputs": [
    {
     "data": {
      "text/html": [
       "<div>\n",
       "<style scoped>\n",
       "    .dataframe tbody tr th:only-of-type {\n",
       "        vertical-align: middle;\n",
       "    }\n",
       "\n",
       "    .dataframe tbody tr th {\n",
       "        vertical-align: top;\n",
       "    }\n",
       "\n",
       "    .dataframe thead th {\n",
       "        text-align: right;\n",
       "    }\n",
       "</style>\n",
       "<table border=\"1\" class=\"dataframe\">\n",
       "  <thead>\n",
       "    <tr style=\"text-align: right;\">\n",
       "      <th></th>\n",
       "      <th>loan_amnt</th>\n",
       "      <th>int_rate</th>\n",
       "      <th>installment</th>\n",
       "      <th>annual_inc</th>\n",
       "    </tr>\n",
       "  </thead>\n",
       "  <tbody>\n",
       "    <tr>\n",
       "      <th>loan_amnt</th>\n",
       "      <td>1.000000</td>\n",
       "      <td>0.168921</td>\n",
       "      <td>0.953929</td>\n",
       "      <td>0.336887</td>\n",
       "    </tr>\n",
       "    <tr>\n",
       "      <th>int_rate</th>\n",
       "      <td>0.168921</td>\n",
       "      <td>1.000000</td>\n",
       "      <td>0.162758</td>\n",
       "      <td>-0.056771</td>\n",
       "    </tr>\n",
       "    <tr>\n",
       "      <th>installment</th>\n",
       "      <td>0.953929</td>\n",
       "      <td>0.162758</td>\n",
       "      <td>1.000000</td>\n",
       "      <td>0.330381</td>\n",
       "    </tr>\n",
       "    <tr>\n",
       "      <th>annual_inc</th>\n",
       "      <td>0.336887</td>\n",
       "      <td>-0.056771</td>\n",
       "      <td>0.330381</td>\n",
       "      <td>1.000000</td>\n",
       "    </tr>\n",
       "  </tbody>\n",
       "</table>\n",
       "</div>"
      ],
      "text/plain": [
       "             loan_amnt  int_rate  installment  annual_inc\n",
       "loan_amnt     1.000000  0.168921     0.953929    0.336887\n",
       "int_rate      0.168921  1.000000     0.162758   -0.056771\n",
       "installment   0.953929  0.162758     1.000000    0.330381\n",
       "annual_inc    0.336887 -0.056771     0.330381    1.000000"
      ]
     },
     "execution_count": 28,
     "metadata": {},
     "output_type": "execute_result"
    }
   ],
   "source": [
    "df1.corr()"
   ]
  },
  {
   "cell_type": "markdown",
   "id": "5d8bdc74",
   "metadata": {},
   "source": [
    "# Covariance between data"
   ]
  },
  {
   "cell_type": "code",
   "execution_count": 29,
   "id": "01c255d7",
   "metadata": {},
   "outputs": [
    {
     "data": {
      "text/html": [
       "<div>\n",
       "<style scoped>\n",
       "    .dataframe tbody tr th:only-of-type {\n",
       "        vertical-align: middle;\n",
       "    }\n",
       "\n",
       "    .dataframe tbody tr th {\n",
       "        vertical-align: top;\n",
       "    }\n",
       "\n",
       "    .dataframe thead th {\n",
       "        text-align: right;\n",
       "    }\n",
       "</style>\n",
       "<table border=\"1\" class=\"dataframe\">\n",
       "  <thead>\n",
       "    <tr style=\"text-align: right;\">\n",
       "      <th></th>\n",
       "      <th>loan_amnt</th>\n",
       "      <th>int_rate</th>\n",
       "      <th>installment</th>\n",
       "      <th>annual_inc</th>\n",
       "    </tr>\n",
       "  </thead>\n",
       "  <tbody>\n",
       "    <tr>\n",
       "      <th>loan_amnt</th>\n",
       "      <td>6.984683e+07</td>\n",
       "      <td>6313.559526</td>\n",
       "      <td>1.998903e+06</td>\n",
       "      <td>1.735416e+08</td>\n",
       "    </tr>\n",
       "    <tr>\n",
       "      <th>int_rate</th>\n",
       "      <td>6.313560e+03</td>\n",
       "      <td>20.000192</td>\n",
       "      <td>1.825001e+02</td>\n",
       "      <td>-1.564904e+04</td>\n",
       "    </tr>\n",
       "    <tr>\n",
       "      <th>installment</th>\n",
       "      <td>1.998903e+06</td>\n",
       "      <td>182.500067</td>\n",
       "      <td>6.286442e+04</td>\n",
       "      <td>5.105794e+06</td>\n",
       "    </tr>\n",
       "    <tr>\n",
       "      <th>annual_inc</th>\n",
       "      <td>1.735416e+08</td>\n",
       "      <td>-15649.044012</td>\n",
       "      <td>5.105794e+06</td>\n",
       "      <td>3.799196e+09</td>\n",
       "    </tr>\n",
       "  </tbody>\n",
       "</table>\n",
       "</div>"
      ],
      "text/plain": [
       "                loan_amnt      int_rate   installment    annual_inc\n",
       "loan_amnt    6.984683e+07   6313.559526  1.998903e+06  1.735416e+08\n",
       "int_rate     6.313560e+03     20.000192  1.825001e+02 -1.564904e+04\n",
       "installment  1.998903e+06    182.500067  6.286442e+04  5.105794e+06\n",
       "annual_inc   1.735416e+08 -15649.044012  5.105794e+06  3.799196e+09"
      ]
     },
     "execution_count": 29,
     "metadata": {},
     "output_type": "execute_result"
    }
   ],
   "source": [
    "df1.cov()"
   ]
  },
  {
   "cell_type": "markdown",
   "id": "eef3559d",
   "metadata": {},
   "source": [
    "# Summary of the data"
   ]
  },
  {
   "cell_type": "code",
   "execution_count": 126,
   "id": "85d792e3",
   "metadata": {},
   "outputs": [
    {
     "name": "stdout",
     "output_type": "stream",
     "text": [
      "<class 'pandas.core.frame.DataFrame'>\n",
      "RangeIndex: 396030 entries, 0 to 396029\n",
      "Data columns (total 14 columns):\n",
      " #   Column               Non-Null Count   Dtype  \n",
      "---  ------               --------------   -----  \n",
      " 0   loan_amnt            396030 non-null  int64  \n",
      " 1   term                 396030 non-null  object \n",
      " 2   int_rate             396030 non-null  float64\n",
      " 3   installment          396030 non-null  float64\n",
      " 4   grade                396030 non-null  object \n",
      " 5   sub_grade            396030 non-null  object \n",
      " 6   home_ownership       396030 non-null  object \n",
      " 7   annual_inc           396030 non-null  float64\n",
      " 8   verification_status  396030 non-null  object \n",
      " 9   issue_d              396030 non-null  object \n",
      " 10  loan_status          396030 non-null  object \n",
      " 11  purpose              396030 non-null  object \n",
      " 12  initial_list_status  396030 non-null  object \n",
      " 13  application_type     396030 non-null  object \n",
      "dtypes: float64(3), int64(1), object(10)\n",
      "memory usage: 42.3+ MB\n"
     ]
    }
   ],
   "source": [
    "df1.info()"
   ]
  },
  {
   "cell_type": "markdown",
   "id": "fc0f8d50",
   "metadata": {},
   "source": [
    "# Statistical summary of the data"
   ]
  },
  {
   "cell_type": "code",
   "execution_count": 127,
   "id": "412592f6",
   "metadata": {},
   "outputs": [
    {
     "data": {
      "text/html": [
       "<div>\n",
       "<style scoped>\n",
       "    .dataframe tbody tr th:only-of-type {\n",
       "        vertical-align: middle;\n",
       "    }\n",
       "\n",
       "    .dataframe tbody tr th {\n",
       "        vertical-align: top;\n",
       "    }\n",
       "\n",
       "    .dataframe thead th {\n",
       "        text-align: right;\n",
       "    }\n",
       "</style>\n",
       "<table border=\"1\" class=\"dataframe\">\n",
       "  <thead>\n",
       "    <tr style=\"text-align: right;\">\n",
       "      <th></th>\n",
       "      <th>loan_amnt</th>\n",
       "      <th>int_rate</th>\n",
       "      <th>installment</th>\n",
       "      <th>annual_inc</th>\n",
       "    </tr>\n",
       "  </thead>\n",
       "  <tbody>\n",
       "    <tr>\n",
       "      <th>count</th>\n",
       "      <td>396030.000000</td>\n",
       "      <td>396030.000000</td>\n",
       "      <td>396030.000000</td>\n",
       "      <td>3.960300e+05</td>\n",
       "    </tr>\n",
       "    <tr>\n",
       "      <th>mean</th>\n",
       "      <td>14113.888089</td>\n",
       "      <td>13.639400</td>\n",
       "      <td>431.849698</td>\n",
       "      <td>7.420318e+04</td>\n",
       "    </tr>\n",
       "    <tr>\n",
       "      <th>std</th>\n",
       "      <td>8357.441341</td>\n",
       "      <td>4.472157</td>\n",
       "      <td>250.727790</td>\n",
       "      <td>6.163762e+04</td>\n",
       "    </tr>\n",
       "    <tr>\n",
       "      <th>min</th>\n",
       "      <td>500.000000</td>\n",
       "      <td>5.320000</td>\n",
       "      <td>16.080000</td>\n",
       "      <td>0.000000e+00</td>\n",
       "    </tr>\n",
       "    <tr>\n",
       "      <th>25%</th>\n",
       "      <td>8000.000000</td>\n",
       "      <td>10.490000</td>\n",
       "      <td>250.330000</td>\n",
       "      <td>4.500000e+04</td>\n",
       "    </tr>\n",
       "    <tr>\n",
       "      <th>50%</th>\n",
       "      <td>12000.000000</td>\n",
       "      <td>13.330000</td>\n",
       "      <td>375.430000</td>\n",
       "      <td>6.400000e+04</td>\n",
       "    </tr>\n",
       "    <tr>\n",
       "      <th>75%</th>\n",
       "      <td>20000.000000</td>\n",
       "      <td>16.490000</td>\n",
       "      <td>567.300000</td>\n",
       "      <td>9.000000e+04</td>\n",
       "    </tr>\n",
       "    <tr>\n",
       "      <th>max</th>\n",
       "      <td>40000.000000</td>\n",
       "      <td>30.990000</td>\n",
       "      <td>1533.810000</td>\n",
       "      <td>8.706582e+06</td>\n",
       "    </tr>\n",
       "  </tbody>\n",
       "</table>\n",
       "</div>"
      ],
      "text/plain": [
       "           loan_amnt       int_rate    installment    annual_inc\n",
       "count  396030.000000  396030.000000  396030.000000  3.960300e+05\n",
       "mean    14113.888089      13.639400     431.849698  7.420318e+04\n",
       "std      8357.441341       4.472157     250.727790  6.163762e+04\n",
       "min       500.000000       5.320000      16.080000  0.000000e+00\n",
       "25%      8000.000000      10.490000     250.330000  4.500000e+04\n",
       "50%     12000.000000      13.330000     375.430000  6.400000e+04\n",
       "75%     20000.000000      16.490000     567.300000  9.000000e+04\n",
       "max     40000.000000      30.990000    1533.810000  8.706582e+06"
      ]
     },
     "execution_count": 127,
     "metadata": {},
     "output_type": "execute_result"
    }
   ],
   "source": [
    "df1.describe()"
   ]
  },
  {
   "cell_type": "markdown",
   "id": "f17a4f24",
   "metadata": {},
   "source": [
    "# Data Visualization"
   ]
  },
  {
   "cell_type": "markdown",
   "id": "8a1b7155",
   "metadata": {},
   "source": [
    "# Count plot of grades"
   ]
  },
  {
   "cell_type": "code",
   "execution_count": 132,
   "id": "927cc49e",
   "metadata": {},
   "outputs": [
    {
     "data": {
      "image/png": "[encoded data removed]",
      "text/plain": [
       "<Figure size 864x720 with 1 Axes>"
      ]
     },
     "metadata": {
      "needs_background": "light"
     },
     "output_type": "display_data"
    }
   ],
   "source": [
    "plt.figure(figsize=(12,10))\n",
    "df_data[\"grade\"].value_counts().plot.bar()\n",
    "plt.title(\"Count plot of grade\",color='blue')\n",
    "plt.xlabel(\"grades\")\n",
    "plt.ylabel(\"counts\")\n",
    "plt.show()"
   ]
  },
  {
   "cell_type": "markdown",
   "id": "dca4aef5",
   "metadata": {},
   "source": [
    "# Count plot of sub-grades"
   ]
  },
  {
   "cell_type": "code",
   "execution_count": 135,
   "id": "0474c3a7",
   "metadata": {},
   "outputs": [
    {
     "data": {
      "image/png": "[encoded data removed]",
      "text/plain": [
       "<Figure size 720x504 with 1 Axes>"
      ]
     },
     "metadata": {
      "needs_background": "light"
     },
     "output_type": "display_data"
    }
   ],
   "source": [
    "plt.figure(figsize=(10,7))\n",
    "plt.title(\"Count plot of sub_grade\",color='blue')\n",
    "sn.countplot(x =df_data[\"sub_grade\"])\n",
    "plt.xticks(rotation= 90)\n",
    "plt.show()"
   ]
  },
  {
   "cell_type": "markdown",
   "id": "443c3c0f",
   "metadata": {},
   "source": [
    "# Count plot of purpose of loans"
   ]
  },
  {
   "cell_type": "code",
   "execution_count": 136,
   "id": "4f6b2797",
   "metadata": {},
   "outputs": [
    {
     "data": {
      "image/png": "[encoded data removed]",
      "text/plain": [
       "<Figure size 720x504 with 1 Axes>"
      ]
     },
     "metadata": {
      "needs_background": "light"
     },
     "output_type": "display_data"
    }
   ],
   "source": [
    "plt.figure(figsize=(10,7))\n",
    "plt.title(\"Count plot of purpose\",color='blue')\n",
    "sn.countplot(x =df_data[\"purpose\"])\n",
    "plt.xticks(rotation= 90)\n",
    "plt.show()"
   ]
  },
  {
   "cell_type": "markdown",
   "id": "d7e88655",
   "metadata": {},
   "source": [
    "# Sum of loan amount based on verification status"
   ]
  },
  {
   "cell_type": "code",
   "execution_count": 140,
   "id": "d6567c11",
   "metadata": {},
   "outputs": [
    {
     "name": "stdout",
     "output_type": "stream",
     "text": [
      "                            sum\n",
      "verification_status            \n",
      "Not Verified         1302768550\n",
      "Source Verified      1939883600\n",
      "Verified             2346870950\n"
     ]
    },
    {
     "data": {
      "image/png": "[encoded data removed]",
      "text/plain": [
       "<Figure size 432x288 with 1 Axes>"
      ]
     },
     "metadata": {},
     "output_type": "display_data"
    },
    {
     "data": {
      "text/plain": [
       "<Figure size 720x504 with 0 Axes>"
      ]
     },
     "metadata": {},
     "output_type": "display_data"
    }
   ],
   "source": [
    "print(df_data.groupby('verification_status')['loan_amnt'].agg(['sum']))\n",
    "df_data.groupby('verification_status')['loan_amnt'].agg(['sum']).plot.pie(subplots=\"True\",autopct=\"%1.1f%%\")\n",
    "plt.title(\"Total loan amount based on verification status\",color='orange')\n",
    "plt.figure(figsize=(10,7))\n",
    "plt.show()"
   ]
  },
  {
   "cell_type": "markdown",
   "id": "daf2fc58",
   "metadata": {},
   "source": [
    "# Sum of loan amount for each purpose"
   ]
  },
  {
   "cell_type": "code",
   "execution_count": 150,
   "id": "09745566",
   "metadata": {},
   "outputs": [
    {
     "name": "stdout",
     "output_type": "stream",
     "text": [
      "                           sum\n",
      "purpose                       \n",
      "car                   38615950\n",
      "credit_card         1202306225\n",
      "debt_consolidation  3489116875\n",
      "educational            1752925\n",
      "home_improvement     339160650\n",
      "house                 33884825\n",
      "major_purchase        96065225\n",
      "medical               37574525\n",
      "moving                22473500\n",
      "other                203980925\n",
      "renewable_energy       3076750\n",
      "small_business        87722650\n",
      "vacation              15252050\n",
      "wedding               18540025\n"
     ]
    },
    {
     "data": {
      "image/png": "[encoded data removed]",
      "text/plain": [
       "<Figure size 432x288 with 1 Axes>"
      ]
     },
     "metadata": {
      "needs_background": "light"
     },
     "output_type": "display_data"
    },
    {
     "data": {
      "text/plain": [
       "<Figure size 720x504 with 0 Axes>"
      ]
     },
     "metadata": {},
     "output_type": "display_data"
    }
   ],
   "source": [
    "print(df_data.groupby('purpose')['loan_amnt'].agg(['sum']))\n",
    "df_data.groupby('purpose')['loan_amnt'].agg(['sum']).plot.bar(color='green')\n",
    "plt.title(\"Total loan amount for each purpose\",color='orange')\n",
    "plt.ylabel(\"sum of loan amount\",color='blue')\n",
    "plt.xlabel(\"Purpose\",color='blue')\n",
    "plt.figure(figsize=(10,7))\n",
    "plt.show()"
   ]
  },
  {
   "cell_type": "markdown",
   "id": "223f69f5",
   "metadata": {},
   "source": [
    "# Plot for Total loan amount based on loan status"
   ]
  },
  {
   "cell_type": "code",
   "execution_count": 146,
   "id": "159961e5",
   "metadata": {},
   "outputs": [
    {
     "name": "stdout",
     "output_type": "stream",
     "text": [
      "                    sum\n",
      "loan_status            \n",
      "Charged Off  1174905175\n",
      "Fully Paid   4414617925\n"
     ]
    },
    {
     "data": {
      "image/png": "[encoded data removed]",
      "text/plain": [
       "<Figure size 432x288 with 1 Axes>"
      ]
     },
     "metadata": {},
     "output_type": "display_data"
    },
    {
     "data": {
      "text/plain": [
       "<Figure size 720x504 with 0 Axes>"
      ]
     },
     "metadata": {},
     "output_type": "display_data"
    }
   ],
   "source": [
    "print(df_data.groupby('loan_status')['loan_amnt'].agg(['sum']))\n",
    "df_data.groupby('loan_status')['loan_amnt'].agg(['sum']).plot.pie(subplots=\"True\",autopct=\"%1.1f%%\")\n",
    "plt.title(\"Total loan amount based on loan status\",color='orange')\n",
    "plt.figure(figsize=(10,7))\n",
    "plt.show()"
   ]
  },
  {
   "cell_type": "markdown",
   "id": "40704da0",
   "metadata": {},
   "source": [
    "# Average interest rate for each purpose"
   ]
  },
  {
   "cell_type": "code",
   "execution_count": 157,
   "id": "73f808a4",
   "metadata": {},
   "outputs": [
    {
     "name": "stdout",
     "output_type": "stream",
     "text": [
      "                         mean\n",
      "purpose                      \n",
      "car                 11.866809\n",
      "credit_card         12.360409\n",
      "debt_consolidation  13.936640\n",
      "educational         11.689339\n",
      "home_improvement    13.147110\n",
      "house               15.617878\n",
      "major_purchase      12.656352\n",
      "medical             14.842681\n",
      "moving              15.666286\n",
      "other               15.240416\n",
      "renewable_energy    14.980395\n",
      "small_business      15.957728\n",
      "vacation            14.597989\n",
      "wedding             14.003234\n"
     ]
    },
    {
     "data": {
      "image/png": "[encoded data removed]",
      "text/plain": [
       "<Figure size 432x288 with 1 Axes>"
      ]
     },
     "metadata": {
      "needs_background": "light"
     },
     "output_type": "display_data"
    },
    {
     "data": {
      "text/plain": [
       "<Figure size 720x504 with 0 Axes>"
      ]
     },
     "metadata": {},
     "output_type": "display_data"
    }
   ],
   "source": [
    "print(df_data.groupby('purpose')['int_rate'].agg(['mean']))\n",
    "df_data.groupby('purpose')['int_rate'].agg(['mean']).plot.bar(color='purple')\n",
    "plt.title(\"Average interest rate for each purpose\",color='orange')\n",
    "plt.ylabel(\"Average interest rate\",color='blue')\n",
    "plt.xlabel(\"Purpose\",color='blue')\n",
    "plt.figure(figsize=(10,7))\n",
    "plt.show()"
   ]
  },
  {
   "cell_type": "markdown",
   "id": "f0b383a0",
   "metadata": {},
   "source": [
    "# Average annual income for home ownership"
   ]
  },
  {
   "cell_type": "code",
   "execution_count": 159,
   "id": "d92d115c",
   "metadata": {},
   "outputs": [
    {
     "name": "stdout",
     "output_type": "stream",
     "text": [
      "                        mean\n",
      "home_ownership              \n",
      "ANY             86669.333333\n",
      "MORTGAGE        84121.332831\n",
      "NONE            61393.548387\n",
      "OTHER           70456.267857\n",
      "OWN             68014.106750\n",
      "RENT            63358.600684\n"
     ]
    },
    {
     "data": {
      "image/png": "[encoded data removed]",
      "text/plain": [
       "<Figure size 432x288 with 1 Axes>"
      ]
     },
     "metadata": {
      "needs_background": "light"
     },
     "output_type": "display_data"
    },
    {
     "data": {
      "text/plain": [
       "<Figure size 720x504 with 0 Axes>"
      ]
     },
     "metadata": {},
     "output_type": "display_data"
    }
   ],
   "source": [
    "print(df_data.groupby('home_ownership')['annual_inc'].agg(['mean']))\n",
    "df_data.groupby('home_ownership')['annual_inc'].agg(['mean']).plot.bar(color='grey')\n",
    "plt.title(\"Average annual income for home ownership\",color='orange')\n",
    "plt.ylabel(\"Average annual income\",color='blue')\n",
    "plt.xlabel(\"home_ownership\",color='blue')\n",
    "plt.figure(figsize=(10,7))\n",
    "plt.show()"
   ]
  },
  {
   "cell_type": "markdown",
   "id": "8a17f36c",
   "metadata": {},
   "source": [
    "# Heatmap for corelation among the columns"
   ]
  },
  {
   "cell_type": "code",
   "execution_count": 161,
   "id": "2f01062a",
   "metadata": {},
   "outputs": [
    {
     "data": {
      "image/png": "[encoded data removed]",
      "text/plain": [
       "<Figure size 720x504 with 2 Axes>"
      ]
     },
     "metadata": {
      "needs_background": "light"
     },
     "output_type": "display_data"
    }
   ],
   "source": [
    "plt.figure(figsize=(10,7))\n",
    "sn.heatmap(df1.corr(),annot=True)\n",
    "plt.show()"
   ]
  },
  {
   "cell_type": "markdown",
   "id": "5402d9a7",
   "metadata": {},
   "source": [
    "# Heatmap for covariance among the columns"
   ]
  },
  {
   "cell_type": "code",
   "execution_count": 162,
   "id": "9b4152e4",
   "metadata": {},
   "outputs": [
    {
     "data": {
      "image/png": "[encoded data removed]",
      "text/plain": [
       "<Figure size 720x504 with 2 Axes>"
      ]
     },
     "metadata": {
      "needs_background": "light"
     },
     "output_type": "display_data"
    }
   ],
   "source": [
    "plt.figure(figsize=(10,7))\n",
    "sn.heatmap(df1.cov(),annot=True)\n",
    "plt.show()"
   ]
  },
  {
   "cell_type": "code",
   "execution_count": null,
   "id": "a8ec8435",
   "metadata": {},
   "outputs": [],
   "source": []
  },
  {
   "cell_type": "code",
   "execution_count": 6,
   "id": "891e1ed0",
   "metadata": {},
   "outputs": [
    {
     "ename": "NameError",
     "evalue": "name 'df1' is not defined",
     "output_type": "error",
     "traceback": [
      "\u001b[1;31m---------------------------------------------------------------------------\u001b[0m",
      "\u001b[1;31mNameError\u001b[0m                                 Traceback (most recent call last)",
      "\u001b[1;32m~\\AppData\\Local\\Temp/ipykernel_14696/2144702768.py\u001b[0m in \u001b[0;36m<module>\u001b[1;34m\u001b[0m\n\u001b[1;32m----> 1\u001b[1;33m \u001b[0mgra\u001b[0m \u001b[1;33m=\u001b[0m \u001b[0mpd\u001b[0m\u001b[1;33m.\u001b[0m\u001b[0mDataFrame\u001b[0m\u001b[1;33m(\u001b[0m\u001b[0mdf1\u001b[0m\u001b[1;33m.\u001b[0m\u001b[0mvalue_counts\u001b[0m\u001b[1;33m(\u001b[0m\u001b[1;33m)\u001b[0m\u001b[1;33m.\u001b[0m\u001b[0mnlargest\u001b[0m\u001b[1;33m(\u001b[0m\u001b[1;33m)\u001b[0m\u001b[1;33m)\u001b[0m\u001b[1;33m\u001b[0m\u001b[1;33m\u001b[0m\u001b[0m\n\u001b[0m\u001b[0;32m      2\u001b[0m \u001b[0mgra\u001b[0m\u001b[1;33m\u001b[0m\u001b[1;33m\u001b[0m\u001b[0m\n",
      "\u001b[1;31mNameError\u001b[0m: name 'df1' is not defined"
     ]
    }
   ],
   "source": [
    "gra = pd.DataFrame(df1.value_counts().nlargest())\n",
    "gra"
   ]
  },
  {
   "cell_type": "code",
   "execution_count": null,
   "id": "459171b8",
   "metadata": {},
   "outputs": [],
   "source": []
  },
  {
   "cell_type": "code",
   "execution_count": null,
   "id": "4d4b2450",
   "metadata": {},
   "outputs": [],
   "source": []
  },
  {
   "cell_type": "code",
   "execution_count": null,
   "id": "7778db26",
   "metadata": {},
   "outputs": [],
   "source": []
  }
 ],
 "metadata": {
  "kernelspec": {
   "display_name": "Python 3 (ipykernel)",
   "language": "python",
   "name": "python3"
  },
  "language_info": {
   "codemirror_mode": {
    "name": "ipython",
    "version": 3
   },
   "file_extension": ".py",
   "mimetype": "text/x-python",
   "name": "python",
   "nbconvert_exporter": "python",
   "pygments_lexer": "ipython3",
   "version": "3.9.7"
  }
 },
 "nbformat": 4,
 "nbformat_minor": 5
}
